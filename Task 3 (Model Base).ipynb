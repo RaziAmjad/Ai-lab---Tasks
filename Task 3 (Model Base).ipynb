{
 "cells": [
  {
   "cell_type": "code",
   "execution_count": 4,
   "metadata": {},
   "outputs": [
    {
     "name": "stdout",
     "output_type": "stream",
     "text": [
      "\n",
      "Rooms -- Temperature --- Action\n",
      "99           --          20 --- turn on the Heater\n",
      "98           --          23 --- turn on the Heater\n",
      "77           --          34 --- no action (Heater already off)\n",
      "80           --          26 --- no action (Heater already off)\n",
      "\n",
      "--- Last 5 Action History ---\n",
      "Step 1:\n",
      "  99           - Temp: 20 -> turn on the Heater\n",
      "Step 2:\n",
      "  98           - Temp: 23 -> turn on the Heater\n",
      "Step 3:\n",
      "  77           - Temp: 34 -> no action (Heater already off)\n",
      "Step 4:\n",
      "  80           - Temp: 26 -> no action (Heater already off)\n",
      "-----------------------------\n"
     ]
    }
   ],
   "source": [
    "class Model_base:\n",
    "    def __init__(self, rooms, fixed_temp):\n",
    "        self.fixed_temp = fixed_temp   \n",
    "        self.ac_states = {room: \"off\" for room in rooms}   \n",
    "        self.history = []   \n",
    "\n",
    "    def act(self, temperatures):\n",
    "        actions = {}\n",
    "        for room, temp in temperatures.items():\n",
    "            if temp > self.fixed_temp and self.ac_states[room] == \"on\":\n",
    "                self.ac_states[room] = \"off\"\n",
    "                actions[room] = \"turn off the Heater\"\n",
    "            elif temp <= self.fixed_temp and self.ac_states[room] == \"off\":\n",
    "                self.ac_states[room] = \"on\"\n",
    "                actions[room] = \"turn on the Heater\"\n",
    "            else:\n",
    "                actions[room] = f\"no action (Heater already {self.ac_states[room]})\"\n",
    "        \n",
    "        \n",
    "        self.history.append({\"temps\": temperatures.copy(), \"actions\": actions.copy()})\n",
    "        if len(self.history) > 5:   \n",
    "            self.history.pop(0)\n",
    "        return actions\n",
    "\n",
    "    def show_history(self):\n",
    "        print(\"\\n--- Last 5 Action History ---\")\n",
    "        for i, entry in enumerate(self.history, 1):\n",
    "            print(f\"Step {i}:\")\n",
    "            for room, temp in entry[\"temps\"].items():\n",
    "                print(f\"  {room:12} - Temp: {temp:2} -> {entry['actions'][room]}\")\n",
    "        print(\"-----------------------------\")\n",
    "\n",
    "rooms = {}\n",
    "n = int(input(\"How many rooms? \"))\n",
    "for _ in range(5):\n",
    "    room_name = input(\"Enter room name: \")\n",
    "    temp = int(input(f\"Enter current temperature of {room_name}: \"))\n",
    "    rooms[room_name] = temp\n",
    "\n",
    "\n",
    "fixed_temp = int(input(\"Enter fixed temperature (threshold): \"))\n",
    "agent = Model_base(rooms, fixed_temp=fixed_temp)\n",
    "\n",
    "\n",
    "print(\"\\nRooms -- Temperature --- Action\")\n",
    "for room, temp in rooms.items():\n",
    "    actions = agent.act({room: temp})\n",
    "    print(f\"{room:12} -- {temp:11} --- {actions[room]}\")\n",
    "\n",
    "\n",
    "agent.show_history()\n"
   ]
  },
  {
   "cell_type": "code",
   "execution_count": null,
   "metadata": {},
   "outputs": [],
   "source": []
  }
 ],
 "metadata": {
  "kernelspec": {
   "display_name": "Python 3",
   "language": "python",
   "name": "python3"
  },
  "language_info": {
   "codemirror_mode": {
    "name": "ipython",
    "version": 3
   },
   "file_extension": ".py",
   "mimetype": "text/x-python",
   "name": "python",
   "nbconvert_exporter": "python",
   "pygments_lexer": "ipython3",
   "version": "3.13.0"
  }
 },
 "nbformat": 4,
 "nbformat_minor": 2
}
