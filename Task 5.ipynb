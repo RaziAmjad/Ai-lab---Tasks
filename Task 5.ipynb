{
 "cells": [
  {
   "cell_type": "code",
   "execution_count": 2,
   "metadata": {},
   "outputs": [
    {
     "name": "stdout",
     "output_type": "stream",
     "text": [
      "Following is Breadth First Traversal: \n",
      "0 1 2 3 "
     ]
    }
   ],
   "source": [
    "import collections\n",
    "def bfs(graph, root): \n",
    " \n",
    "    visited, queue = set(), collections.deque([root]) \n",
    "    visited.add(root) \n",
    " \n",
    "    while queue: \n",
    "        vertex = queue.popleft() \n",
    "        print(str(vertex) + \" \", end=\"\") \n",
    " \n",
    "        for neighbour in graph[vertex]: \n",
    "            if neighbour not in visited: \n",
    "                visited.add(neighbour) \n",
    "                queue.append(neighbour) \n",
    " \n",
    "if __name__ == '__main__': \n",
    "    graph = {0: [1, 2], 1: [2], 2: [3], 3: [1, 2]} \n",
    "    print(\"Following is Breadth First Traversal: \") \n",
    "    bfs(graph, 0) "
   ]
  },
  {
   "cell_type": "code",
   "execution_count": 3,
   "metadata": {},
   "outputs": [
    {
     "name": "stdout",
     "output_type": "stream",
     "text": [
      "0\n",
      "1\n",
      "3\n",
      "4\n",
      "2\n",
      "2\n"
     ]
    },
    {
     "data": {
      "text/plain": [
       "{'0', '1', '2', '3', '4'}"
      ]
     },
     "execution_count": 3,
     "metadata": {},
     "output_type": "execute_result"
    }
   ],
   "source": [
    "def dfs(graph, start, visited=None): \n",
    "    if visited is None: \n",
    "        visited = set() \n",
    "    visited.add(start) \n",
    " \n",
    "    print(start) \n",
    " \n",
    "    for next in graph[start] - visited: \n",
    "        dfs(graph, next, visited) \n",
    "    return visited \n",
    " \n",
    " \n",
    "graph = {'0': set(['1', '2']), \n",
    "         '1': set(['0', '3', '4']), \n",
    "         '2': set(['0']), \n",
    "         '3': set(['1']), \n",
    "         '4': set(['2', '3'])} \n",
    " \n",
    "dfs(graph, '0') \n",
    " "
   ]
  },
  {
   "cell_type": "code",
   "execution_count": 7,
   "metadata": {},
   "outputs": [
    {
     "name": "stdout",
     "output_type": "stream",
     "text": [
      "DFS Traversal using Stack:\n",
      "A B D E F C "
     ]
    }
   ],
   "source": [
    "def dfs_stack(graph, start):\n",
    "    visited = set()\n",
    "    stack = [start]\n",
    "\n",
    "    while stack:\n",
    "        node = stack.pop()\n",
    "        if node not in visited:\n",
    "            print(node, end=\" \")\n",
    "            visited.add(node)\n",
    "\n",
    "            for neighbor in reversed(graph[node]):\n",
    "                if neighbor not in visited:\n",
    "                    stack.append(neighbor)\n",
    "\n",
    "\n",
    "graph = {\n",
    "    'A': ['B', 'C'],\n",
    "    'B': ['D', 'E'],\n",
    "    'C': ['F', 'C'],\n",
    "    'D': [\"A\"],\n",
    "    'E': ['F'],\n",
    "    'F': ['A']\n",
    "}\n",
    "\n",
    "print(\"DFS Traversal using Stack:\")\n",
    "dfs_stack(graph, 'A')\n"
   ]
  }
 ],
 "metadata": {
  "kernelspec": {
   "display_name": "Python 3",
   "language": "python",
   "name": "python3"
  },
  "language_info": {
   "codemirror_mode": {
    "name": "ipython",
    "version": 3
   },
   "file_extension": ".py",
   "mimetype": "text/x-python",
   "name": "python",
   "nbconvert_exporter": "python",
   "pygments_lexer": "ipython3",
   "version": "3.13.0"
  }
 },
 "nbformat": 4,
 "nbformat_minor": 2
}
