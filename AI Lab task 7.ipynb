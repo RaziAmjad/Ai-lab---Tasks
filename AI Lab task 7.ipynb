{
 "cells": [
  {
   "cell_type": "markdown",
   "id": "66cb2678",
   "metadata": {},
   "source": [
    "### Name : Muhammad Abubakar Siddique \n",
    "### Class : BSAI-3C\n",
    "### Roll No : SU92-BSAIM-F24-138\n",
    "### Task No : 07"
   ]
  },
  {
   "cell_type": "code",
   "execution_count": 1,
   "id": "52fca3a9",
   "metadata": {},
   "outputs": [
    {
     "name": "stdout",
     "output_type": "stream",
     "text": [
      "Shortest Path: ['A', 'B', 'D', 'G']\n"
     ]
    }
   ],
   "source": [
    "graph = {\n",
    "    'A': [('B', 1), ('C', 3)],\n",
    "    'B': [('D', 1), ('E', 5)],\n",
    "    'C': [('F', 2)],\n",
    "    'D': [('G', 1)],\n",
    "    'E': [('G', 2)],\n",
    "    'F': [('G', 1)],\n",
    "    'G': []\n",
    "}\n",
    "\n",
    "h = {\n",
    "    'A': 6,\n",
    "    'B': 4,\n",
    "    'C': 4,\n",
    "    'D': 2,\n",
    "    'E': 2,\n",
    "    'F': 2,\n",
    "    'G': 0\n",
    "}\n",
    "\n",
    "def a_star(start, goal):\n",
    "    open_list = [start]        \n",
    "    g = {start: 0}            \n",
    "    parent = {start: None}     \n",
    "\n",
    "    while open_list:\n",
    "        current = min(open_list, key=lambda x: g.get(x, 999) + h.get(x, 999))\n",
    "\n",
    "        if current == goal:\n",
    "            path = []\n",
    "            while current:\n",
    "                path.append(current)\n",
    "                current = parent[current]\n",
    "            path.reverse()\n",
    "            print(\"Shortest Path:\", path)\n",
    "            return\n",
    "\n",
    "        open_list.remove(current)\n",
    "\n",
    "        for neighbor, cost in graph[current]:\n",
    "            new_g = g[current] + cost\n",
    "\n",
    "            if neighbor not in g or new_g < g[neighbor]:\n",
    "                g[neighbor] = new_g\n",
    "                parent[neighbor] = current\n",
    "                if neighbor not in open_list:\n",
    "                    open_list.append(neighbor)\n",
    "\n",
    "    print(\"No Path Found!\")\n",
    "a_star('A', 'G')\n"
   ]
  }
 ],
 "metadata": {
  "kernelspec": {
   "display_name": "base",
   "language": "python",
   "name": "python3"
  },
  "language_info": {
   "codemirror_mode": {
    "name": "ipython",
    "version": 3
   },
   "file_extension": ".py",
   "mimetype": "text/x-python",
   "name": "python",
   "nbconvert_exporter": "python",
   "pygments_lexer": "ipython3",
   "version": "3.12.4"
  }
 },
 "nbformat": 4,
 "nbformat_minor": 5
}
