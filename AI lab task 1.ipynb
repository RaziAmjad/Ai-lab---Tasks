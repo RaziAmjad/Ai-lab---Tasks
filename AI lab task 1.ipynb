{
 "cells": [
  {
   "cell_type": "code",
   "execution_count": 3,
   "id": "dfe4fa3d",
   "metadata": {},
   "outputs": [
    {
     "name": "stdout",
     "output_type": "stream",
     "text": [
      "📌 Dynamic Calculator (type 'exit' to quit)\n"
     ]
    },
    {
     "name": "stdout",
     "output_type": "stream",
     "text": [
      "Result = 9.0\n",
      "Result = 8.0\n",
      "Result = 16\n",
      "❌ Invalid Expression: name 'wxit' is not defined\n",
      "Calculator Closed ✅\n"
     ]
    }
   ],
   "source": [
    "import re\n",
    "\n",
    "def calculator():\n",
    "    print(\"📌 Dynamic Calculator (type 'exit' to quit)\")\n",
    "    \n",
    "    while True:\n",
    "        expr = input(\"\\nEnter expression: \")\n",
    "\n",
    "        if expr.lower() == \"exit\":\n",
    "            print(\"Calculator Closed ✅\")\n",
    "            break\n",
    "\n",
    "        try:\n",
    "            # Replace × and ÷ with * and /\n",
    "            expr = expr.replace(\"×\", \"*\").replace(\"÷\", \"/\")\n",
    "            \n",
    "            # Handle implicit multiplication (e.g., 2(3+4) -> 2*(3+4))\n",
    "            expr = re.sub(r'(\\d)\\(', r'\\1*(', expr)  # number before (\n",
    "            expr = re.sub(r'\\)(\\d)', r')*\\1', expr)  # ) before number\n",
    "\n",
    "            # Evaluate safely\n",
    "            result = eval(expr)\n",
    "            print(\"Result =\", result)\n",
    "        except Exception as e:\n",
    "            print(\"❌ Invalid Expression:\", e)\n",
    "\n",
    "calculator()\n"
   ]
  }
 ],
 "metadata": {
  "kernelspec": {
   "display_name": "base",
   "language": "python",
   "name": "python3"
  },
  "language_info": {
   "codemirror_mode": {
    "name": "ipython",
    "version": 3
   },
   "file_extension": ".py",
   "mimetype": "text/x-python",
   "name": "python",
   "nbconvert_exporter": "python",
   "pygments_lexer": "ipython3",
   "version": "3.12.4"
  }
 },
 "nbformat": 4,
 "nbformat_minor": 5
}
